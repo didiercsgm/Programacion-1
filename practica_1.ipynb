{
  "nbformat": 4,
  "nbformat_minor": 0,
  "metadata": {
    "colab": {
      "provenance": []
    },
    "kernelspec": {
      "name": "python3",
      "display_name": "Python 3"
    },
    "language_info": {
      "name": "python"
    }
  },
  "cells": [
    {
      "cell_type": "code",
      "execution_count": 3,
      "metadata": {
        "colab": {
          "base_uri": "https://localhost:8080/"
        },
        "id": "arjQMQIJfB9x",
        "outputId": "2786f16a-0b37-46cf-e06f-e0d82447b4b7"
      },
      "outputs": [
        {
          "output_type": "stream",
          "name": "stdout",
          "text": [
            "Expresión original: 3 + 4 * 2 / ( 1 - 5 ) ** 2 ** 3\n",
            "Expresión en Notación Polaca Inversa: 3 4 2 * 1 5 - 2 3 ** ** / +\n"
          ]
        }
      ],
      "source": [
        "#diccionarios que definen jerarquía y de asociatividad de operadores para usar al rato dentro de las funciones\n",
        "jerarquia = {\"+\": 1, \"-\": 1, \"*\": 2, \"/\": 2, \"**\": 3}\n",
        "asociatividad = {\"+\": \"izquierda\", \"-\": \"izquierda\", \"*\": \"izquierda\", \"/\": \"izquierda\", \"**\": \"derecha\"}\n",
        "\n",
        "#definimos función que hace la conversión\n",
        "def polaca_inversa(expression):\n",
        "  #declaramos listas que van a contener al resultado y a los pasos\n",
        "  resultado = []\n",
        "  pasos = []\n",
        "  #declaramos lista que se va a usar como pila para los operadores\n",
        "  operadores = []\n",
        "\n",
        "  #función para hacer texto de cada paso\n",
        "  def texto(paso):\n",
        "    pasos.append(f\"estado: {' '.join(resultado)}\\nPaso: {paso}\\n\")\n",
        "\n",
        "  #definimos un ciclo que itera sobre cada carácter de una cadena separado por espacios\n",
        "  for i in expression.split():\n",
        "    #revisa si el carácter es número, si sí, lo agrega al resultado\n",
        "    if i.isnumeric():\n",
        "      resultado.append(i)\n",
        "      texto(f\"Agregué {i} al resultado\")\n",
        "      #empieza un ciclo while\n",
        "    elif i in jerarquia:\n",
        "      #el ciclo while toma un operador y lo agrega al al resultado con si tiene mayor jerarquia\n",
        "      while (operadores and operadores[-1] in jerarquia and\n",
        "      ((asociatividad[i] == \"derecha\" and jerarquia[i] < jerarquia[operadores[-1]]) or\n",
        "        (asociatividad[i] == \"izquierda\" and jerarquia[i] <= jerarquia[operadores[-1]]))):\n",
        "        resultado.append(operadores.pop())\n",
        "        texto(f\"Saqué operador de la pila por jerarquia o asociatividad\")\n",
        "      operadores.append(i) #agrega el operador a la pila\n",
        "      texto(f\"Agregué {i} a la pila\")\n",
        "    elif i == \"(\":\n",
        "      #agrega el parentesis izquierdo a la pila\n",
        "      operadores.append(i)\n",
        "      texto(f\"Agregué {i} a la pila\") #agrega al texto\n",
        "    elif i == \")\":\n",
        "      #si hay paréntesis derecho, los quita de la pila y los agrega al resultado hasta que se encuentre paréntesis izquierdo\n",
        "      while operadores and operadores[-1] != \"(\":\n",
        "        resultado.append(operadores.pop())\n",
        "        texto(f\"Quité operador hasta encontrar paréntesis izquierdo\") #agrega al texto\n",
        "      operadores.pop() #quita paréntesis de la pila\n",
        "      texto(\"Quité parentesis izquierdo de la pila\") #agrega al texto\n",
        "\n",
        "  #quita operadores restantes de la pila y los agrega al resultado\n",
        "  while operadores:\n",
        "    resultado.append(operadores.pop())\n",
        "    texto(\"Agregué operadores restantes al resultado\") #agrega el texto\n",
        "\n",
        "  #convierte la lista resultado en una cadena separada por espacios\n",
        "  polaca = \" \".join(resultado)\n",
        "\n",
        "  #crea un archivo txt\n",
        "  with open(\"pasos.txt\", \"w\") as file:\n",
        "    #agrega texto con cada una de las partes\n",
        "    file.write(f\"Expresión original: {expression}\\n\")\n",
        "    file.write(f\"Expresión en notación polaca inversa: {polaca}\\n\\n\")\n",
        "    file.write(\"pasos:\\n\")\n",
        "    #itera para escribir todos los pasos\n",
        "    for step in pasos:\n",
        "      file.write(step + \"\\n\")\n",
        "\n",
        "  #función devueve la expresión convertida\n",
        "  return polaca\n",
        "\n",
        "\n",
        "#función main\n",
        "def main():\n",
        "  #expresión a convertir\n",
        "  expression = \"3 + 4 * 2 / ( 1 - 5 ) ** 2 ** 3\"\n",
        "  NPI = polaca_inversa(expression)\n",
        "  print(\"Expresión original:\", expression)\n",
        "  print(\"Expresión en Notación Polaca Inversa:\", NPI)\n",
        "\n",
        "if __name__ == \"__main__\":\n",
        "  main()"
      ]
    }
  ]
}